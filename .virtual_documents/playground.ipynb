import matplotlib.pyplot as plt
import numpy as np

import matplotlib.animation as animation
from matplotlib.patches import ConnectionPatch

fig, (axl, axr) = plt.subplots(
    ncols=2,
    sharey=True,
    figsize=(6, 2),
    gridspec_kw=dict(width_ratios=[1, 3], wspace=0),
)
axl.set_aspect(1)
axr.set_box_aspect(1 / 3)
axr.yaxis.set_visible(False)
axr.xaxis.set_ticks([0, np.pi, 2 * np.pi], ["0", r"$\pi$", r"$2\pi$"])

# draw circle with initial point in left Axes
x = np.linspace(0, 2 * np.pi, 50)
axl.plot(np.cos(x), np.sin(x), "k", lw=0.3)
point, = axl.plot(0, 0, "o")

# draw full curve to set view limits in right Axes
sine, = axr.plot(x, np.sin(x))

# draw connecting line between both graphs
con = ConnectionPatch(
    (1, 0),
    (0, 0),
    "data",
    "data",
    axesA=axl,
    axesB=axr,
    color="C0",
    ls="dotted",
)
fig.add_artist(con)


def animate(i):
    x = np.linspace(0, i, int(i * 25 / np.pi))
    sine.set_data(x, np.sin(x))
    x, y = np.cos(i), np.sin(i)
    point.set_data([x], [y])
    con.xy1 = x, y
    con.xy2 = i, y
    return point, sine, con


ani = animation.FuncAnimation(
    fig,
    animate,
    interval=50,
    blit=False,  # blitting can't be used with Figure artists
    frames=x,
    repeat_delay=100,
)

plt.close()
ani.save('temp1.gif')


import random

# Create a figure and axes
fig, ax = plt.subplots()

# Define limits for random coordinates
x_min, x_max = 0, 10
y_min, y_max = 0, 10

# Generate random (x1, y1) and (x2, y2)
x1, y1 = random.uniform(x_min, x_max), random.uniform(y_min, y_max)
x2, y2 = random.uniform(x_min, x_max), random.uniform(y_min, y_max)

# Draw the line
def temp(ax):
    ax.plot([x1, x2], [y1, y2], marker="o", linestyle="-", color="k")
    return ax

ax = temp(ax)

# Set axis limits
ax.set_xlim(x_min, x_max)
ax.set_ylim(y_min, y_max)

# Show grid for better visualization
ax.grid(True)

# Display the plot
plt.show()



import numpy as np
import matplotlib.pyplot as plt
from matplotlib.patches import Circle
import random
import matplotlib.animation as animation

# CONSTANTS
x_min, x_max = 0, 10
y_min, y_max = 0, 10


# This class describes a single match
class Match:
    def __init__(self, x=None, y=None, theta=None, L=None):
        self.x = x if x else random.uniform(x_min, x_max)
        self.y = y if y else random.uniform(y_min, y_max)
        self.theta = theta if theta else np.radians(random.uniform(0, 360))
        self.L = L if L else 1
        self.match_head_radius = self.L / 20

    def plot_match(self, ax, on_line = False):
        lby2_sin_theta = np.sin(self.theta) * (self.L / 2)
        lby2_cos_theta = np.cos(self.theta) * (self.L / 2)
        
        ax.plot([self.x - lby2_cos_theta, self.x + lby2_cos_theta],
                [self.y - lby2_sin_theta, self.y + lby2_sin_theta], 
                color=('b' if on_line else 'y'), linewidth=3, solid_capstyle='round', zorder = 2)
        
        head = Circle((self.x + lby2_cos_theta, self.y + lby2_sin_theta), self.match_head_radius, color = ('g' if on_line else 'r'), zorder = 3)
        ax.add_patch(head)


# This class describes the board
class Board:
    def __init__(self, d=1):
        self.d = d
        self.lines = [y for y in range(0, y_max+1, self.d)] # y_max should be perfectly divided by self.d [IMP for acccuracy]

    def plot_board(self, ax):
        for line_y in self.lines:
            ax.plot([x_min, x_max], [line_y, line_y], color='k')

    def is_touching(self, match) -> bool:
        lby2_sin_theta = np.sin(match.theta) * (match.L / 2)
        y = match.y
            
        for line_y in self.lines:
            if (line_y < y + lby2_sin_theta and line_y > y - lby2_sin_theta) or (line_y < y - lby2_sin_theta and line_y > y + lby2_sin_theta):
                return True

        return False
         

fig, ax = plt.subplots()
ax.set(xlim=(x_min, x_max), ylim=(y_min, y_max), aspect=1)

board = Board(d=2)
board.plot_board(ax)

no_of_matches_touched = 0

def loop(frame):
    global no_of_matches_touched
    ax.set_title(f"No of matches: {frame+1}, Pi value: {((frame + 1) / no_of_matches_touched if no_of_matches_touched else 0):2.5f}")
    
    new_match = Match()
    touching = board.is_touching(new_match)
    no_of_matches_touched += int(touching)
    new_match.plot_match(ax, touching)
    return ax.artists + ax.lines

ani = animation.FuncAnimation(
    fig, 
    loop, 
    interval=75,
    blit=True,  # Enable blitting for smoother animation
    cache_frame_data=False,
    frames = 1000
)

plt.close()
ani.save("q1.gif")






